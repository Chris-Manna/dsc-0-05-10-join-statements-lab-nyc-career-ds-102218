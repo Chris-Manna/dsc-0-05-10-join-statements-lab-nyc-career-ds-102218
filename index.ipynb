{
 "cells": [
  {
   "cell_type": "markdown",
   "metadata": {},
   "source": [
    "# Join Statements"
   ]
  },
  {
   "cell_type": "markdown",
   "metadata": {},
   "source": [
    "## Introduction"
   ]
  },
  {
   "cell_type": "markdown",
   "metadata": {},
   "source": [
    "In this lab, you'll practice your knowledge on Join statements."
   ]
  },
  {
   "cell_type": "markdown",
   "metadata": {},
   "source": [
    "## Objectives"
   ]
  },
  {
   "cell_type": "markdown",
   "metadata": {},
   "source": [
    "You will be able to:\n",
    "- Write queries that make use of various types of Joins\n",
    "- Join tables using foreign keys"
   ]
  },
  {
   "cell_type": "markdown",
   "metadata": {},
   "source": [
    "## CRM Schema\n",
    "\n",
    "In almost all cases, rather then just working with a single table we will typically need data from multiple tables. \n",
    "Doing this requires the use of **joins ** using shared columns from the two tables. \n",
    "\n",
    "In this lab, we'll use the same Customer Relationship Management (CRM) database we used in our lecture before!\n",
    "<img src='Database-Schema.png' width=550>"
   ]
  },
  {
   "cell_type": "markdown",
   "metadata": {},
   "source": [
    "## Connecting to the Database\n",
    "Import the necessary packages and connect to the database **data.sqlite**."
   ]
  },
  {
   "cell_type": "code",
   "execution_count": 2,
   "metadata": {},
   "outputs": [],
   "source": [
    "#Your code here\n",
    "import sqlite3\n",
    "import pandas as pd\n",
    "\n",
    "conn = sqlite3.connect('data.sqlite', detect_types = sqlite3.PARSE_COLNAMES)\n",
    "cursor = conn.cursor()"
   ]
  },
  {
   "cell_type": "markdown",
   "metadata": {},
   "source": [
    "## Display the names of all the employees in Boston."
   ]
  },
  {
   "cell_type": "code",
   "execution_count": 20,
   "metadata": {},
   "outputs": [
    {
     "data": {
      "text/plain": [
       "[('Julie',), ('Steve',)]"
      ]
     },
     "execution_count": 20,
     "metadata": {},
     "output_type": "execute_result"
    }
   ],
   "source": [
    "#Your code here\n",
    "cursor.execute(\"\"\"\n",
    "SELECT firstName FROM employees\n",
    "    join offices\n",
    "    on employees.officeCode = offices.officeCode\n",
    "    WHERE city = 'Boston';\n",
    "\"\"\").fetchall()"
   ]
  },
  {
   "cell_type": "markdown",
   "metadata": {},
   "source": [
    "## Do any offices have no employees?"
   ]
  },
  {
   "cell_type": "code",
   "execution_count": 47,
   "metadata": {},
   "outputs": [
    {
     "data": {
      "text/plain": [
       "[(1, 'Boston'),\n",
       " (1, 'London'),\n",
       " (1, 'NYC'),\n",
       " (1, 'Paris'),\n",
       " (1, 'San Francisco'),\n",
       " (1, 'Sydney'),\n",
       " (1, 'Tokyo')]"
      ]
     },
     "execution_count": 47,
     "metadata": {},
     "output_type": "execute_result"
    }
   ],
   "source": [
    "#Your code here\n",
    "cursor.execute('''\n",
    "SELECT COUNT(*), city FROM offices \n",
    "    GROUP BY offices.city\n",
    "    ORDER BY offices.city\n",
    "''').fetchall()\n"
   ]
  },
  {
   "cell_type": "code",
   "execution_count": 46,
   "metadata": {
    "scrolled": true
   },
   "outputs": [
    {
     "data": {
      "text/plain": [
       "[(2, 'Boston'),\n",
       " (2, 'London'),\n",
       " (2, 'NYC'),\n",
       " (5, 'Paris'),\n",
       " (6, 'San Francisco'),\n",
       " (4, 'Sydney'),\n",
       " (2, 'Tokyo')]"
      ]
     },
     "execution_count": 46,
     "metadata": {},
     "output_type": "execute_result"
    }
   ],
   "source": [
    "cursor.execute(\"\"\"\n",
    "SELECT COUNT(*), city FROM offices \n",
    "    JOIN employees\n",
    "    ON offices.officeCode = employees.officeCode\n",
    "    GROUP BY offices.officeCode\n",
    "    ORDER BY offices.city\n",
    "\"\"\").fetchall()\n",
    "#    WHERE COUNT(employees.employeeNumber) = 0;"
   ]
  },
  {
   "cell_type": "code",
   "execution_count": 49,
   "metadata": {},
   "outputs": [
    {
     "data": {
      "text/plain": [
       "[(23,)]"
      ]
     },
     "execution_count": 49,
     "metadata": {},
     "output_type": "execute_result"
    }
   ],
   "source": [
    "cursor.execute('''\n",
    "SELECT COUNT(*) FROM employees\n",
    "''').fetchall()"
   ]
  },
  {
   "cell_type": "markdown",
   "metadata": {},
   "source": [
    "## Write 3 Questions of your own and answer them"
   ]
  },
  {
   "cell_type": "code",
   "execution_count": 60,
   "metadata": {},
   "outputs": [
    {
     "data": {
      "text/plain": [
       "[(3,),\n",
       " (3,),\n",
       " (2,),\n",
       " (4,),\n",
       " (3,),\n",
       " (3,),\n",
       " (5,),\n",
       " (3,),\n",
       " (2,),\n",
       " (3,),\n",
       " (3,),\n",
       " (4,),\n",
       " (1,),\n",
       " (4,),\n",
       " (2,),\n",
       " (2,),\n",
       " (2,),\n",
       " (2,),\n",
       " (2,),\n",
       " (3,),\n",
       " (2,),\n",
       " (2,),\n",
       " (3,),\n",
       " (4,),\n",
       " (3,),\n",
       " (3,),\n",
       " (2,),\n",
       " (5,),\n",
       " (4,),\n",
       " (2,),\n",
       " (2,),\n",
       " (5,),\n",
       " (5,),\n",
       " (3,),\n",
       " (26,),\n",
       " (3,),\n",
       " (2,),\n",
       " (3,),\n",
       " (3,),\n",
       " (3,),\n",
       " (3,),\n",
       " (3,),\n",
       " (4,),\n",
       " (2,),\n",
       " (3,),\n",
       " (2,),\n",
       " (4,),\n",
       " (2,),\n",
       " (3,),\n",
       " (3,),\n",
       " (4,),\n",
       " (4,),\n",
       " (3,),\n",
       " (3,),\n",
       " (2,),\n",
       " (2,),\n",
       " (2,),\n",
       " (3,),\n",
       " (3,),\n",
       " (2,),\n",
       " (3,),\n",
       " (17,),\n",
       " (3,),\n",
       " (3,),\n",
       " (4,),\n",
       " (2,),\n",
       " (3,),\n",
       " (2,),\n",
       " (2,),\n",
       " (3,),\n",
       " (3,),\n",
       " (3,),\n",
       " (5,),\n",
       " (3,),\n",
       " (2,),\n",
       " (4,),\n",
       " (4,),\n",
       " (3,),\n",
       " (3,),\n",
       " (2,),\n",
       " (3,),\n",
       " (4,),\n",
       " (3,),\n",
       " (3,),\n",
       " (2,),\n",
       " (4,),\n",
       " (3,),\n",
       " (4,),\n",
       " (4,),\n",
       " (2,),\n",
       " (3,),\n",
       " (3,),\n",
       " (3,),\n",
       " (2,),\n",
       " (3,),\n",
       " (4,),\n",
       " (2,),\n",
       " (2,)]"
      ]
     },
     "execution_count": 60,
     "metadata": {},
     "output_type": "execute_result"
    }
   ],
   "source": [
    "# Answers will vary \n",
    "# How many orders did each of the top three customers make? \n",
    "\n",
    "cursor.execute('''\n",
    "SELECT COUNT(*) FROM customers\n",
    "    JOIN orders\n",
    "    ON orders.customerNumber = customers.customerNumber\n",
    "    GROUP BY customerName\n",
    "    ORDER BY C;\n",
    "''').fetchall()\n",
    "\n"
   ]
  },
  {
   "cell_type": "code",
   "execution_count": null,
   "metadata": {},
   "outputs": [],
   "source": [
    "# Your code here"
   ]
  },
  {
   "cell_type": "code",
   "execution_count": null,
   "metadata": {},
   "outputs": [],
   "source": [
    "# Your code here"
   ]
  },
  {
   "cell_type": "code",
   "execution_count": null,
   "metadata": {},
   "outputs": [],
   "source": [
    "# Your code here"
   ]
  },
  {
   "cell_type": "markdown",
   "metadata": {},
   "source": [
    "## Level Up: Display the names of each product each employee has sold."
   ]
  },
  {
   "cell_type": "code",
   "execution_count": null,
   "metadata": {},
   "outputs": [],
   "source": [
    "# Your code here"
   ]
  },
  {
   "cell_type": "markdown",
   "metadata": {},
   "source": [
    "## Level Up: Display the Number of Products each Employee Has sold"
   ]
  },
  {
   "cell_type": "code",
   "execution_count": null,
   "metadata": {},
   "outputs": [],
   "source": [
    "#Your code here"
   ]
  },
  {
   "cell_type": "markdown",
   "metadata": {},
   "source": [
    "## Summary"
   ]
  },
  {
   "cell_type": "markdown",
   "metadata": {},
   "source": [
    "Congrats! You now know how to use Join statements, along with leveraging your foreign keys knowledge!"
   ]
  }
 ],
 "metadata": {
  "kernelspec": {
   "display_name": "Python 3",
   "language": "python",
   "name": "python3"
  },
  "language_info": {
   "codemirror_mode": {
    "name": "ipython",
    "version": 3
   },
   "file_extension": ".py",
   "mimetype": "text/x-python",
   "name": "python",
   "nbconvert_exporter": "python",
   "pygments_lexer": "ipython3",
   "version": "3.6.6"
  }
 },
 "nbformat": 4,
 "nbformat_minor": 2
}
