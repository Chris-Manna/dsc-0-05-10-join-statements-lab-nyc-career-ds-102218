{
 "cells": [
  {
   "cell_type": "markdown",
   "metadata": {},
   "source": [
    "# Join Statements"
   ]
  },
  {
   "cell_type": "markdown",
   "metadata": {},
   "source": [
    "## Introduction"
   ]
  },
  {
   "cell_type": "markdown",
   "metadata": {},
   "source": [
    "In this lab, you'll practice your knowledge on Join statements."
   ]
  },
  {
   "cell_type": "markdown",
   "metadata": {},
   "source": [
    "## Objectives"
   ]
  },
  {
   "cell_type": "markdown",
   "metadata": {},
   "source": [
    "You will be able to:\n",
    "- Write queries that make use of various types of Joins\n",
    "- Join tables using foreign keys"
   ]
  },
  {
   "cell_type": "markdown",
   "metadata": {},
   "source": [
    "## CRM Schema\n",
    "\n",
    "In almost all cases, rather then just working with a single table we will typically need data from multiple tables. \n",
    "Doing this requires the use of **joins ** using shared columns from the two tables. \n",
    "\n",
    "In this lab, we'll use the same Customer Relationship Management (CRM) database we used in our lecture before!\n",
    "<img src='Database-Schema.png' width=550>"
   ]
  },
  {
   "cell_type": "markdown",
   "metadata": {},
   "source": [
    "## Connecting to the Database\n",
    "Import the necessary packages and connect to the database **data.sqlite**."
   ]
  },
  {
   "cell_type": "code",
   "execution_count": 2,
   "metadata": {},
   "outputs": [],
   "source": [
    "#Your code here\n",
    "import sqlite3\n",
    "import pandas as pd\n",
    "\n",
    "conn = sqlite3.connect('data.sqlite', detect_types = sqlite3.PARSE_COLNAMES)\n",
    "cursor = conn.cursor()"
   ]
  },
  {
   "cell_type": "markdown",
   "metadata": {},
   "source": [
    "## Display the names of all the employees in Boston."
   ]
  },
  {
   "cell_type": "code",
   "execution_count": 20,
   "metadata": {},
   "outputs": [
    {
     "data": {
      "text/plain": [
       "[('Julie',), ('Steve',)]"
      ]
     },
     "execution_count": 20,
     "metadata": {},
     "output_type": "execute_result"
    }
   ],
   "source": [
    "#Your code here\n",
    "cursor.execute(\"\"\"\n",
    "SELECT firstName FROM employees\n",
    "    join offices\n",
    "    on employees.officeCode = offices.officeCode\n",
    "    WHERE city = 'Boston';\n",
    "\"\"\").fetchall()"
   ]
  },
  {
   "cell_type": "markdown",
   "metadata": {},
   "source": [
    "## Do any offices have no employees?"
   ]
  },
  {
   "cell_type": "code",
   "execution_count": 47,
   "metadata": {},
   "outputs": [
    {
     "data": {
      "text/plain": [
       "[(1, 'Boston'),\n",
       " (1, 'London'),\n",
       " (1, 'NYC'),\n",
       " (1, 'Paris'),\n",
       " (1, 'San Francisco'),\n",
       " (1, 'Sydney'),\n",
       " (1, 'Tokyo')]"
      ]
     },
     "execution_count": 47,
     "metadata": {},
     "output_type": "execute_result"
    }
   ],
   "source": [
    "#Your code here\n",
    "cursor.execute('''\n",
    "SELECT COUNT(*), city FROM offices \n",
    "    GROUP BY offices.city\n",
    "    ORDER BY offices.city\n",
    "''').fetchall()\n"
   ]
  },
  {
   "cell_type": "code",
   "execution_count": 46,
   "metadata": {
    "scrolled": true
   },
   "outputs": [
    {
     "data": {
      "text/plain": [
       "[(2, 'Boston'),\n",
       " (2, 'London'),\n",
       " (2, 'NYC'),\n",
       " (5, 'Paris'),\n",
       " (6, 'San Francisco'),\n",
       " (4, 'Sydney'),\n",
       " (2, 'Tokyo')]"
      ]
     },
     "execution_count": 46,
     "metadata": {},
     "output_type": "execute_result"
    }
   ],
   "source": [
    "cursor.execute(\"\"\"\n",
    "SELECT COUNT(*), city FROM offices \n",
    "    JOIN employees\n",
    "    ON offices.officeCode = employees.officeCode\n",
    "    GROUP BY offices.officeCode\n",
    "    ORDER BY offices.city\n",
    "\"\"\").fetchall()\n",
    "#    WHERE COUNT(employees.employeeNumber) = 0;"
   ]
  },
  {
   "cell_type": "code",
   "execution_count": 49,
   "metadata": {},
   "outputs": [
    {
     "data": {
      "text/plain": [
       "[(23,)]"
      ]
     },
     "execution_count": 49,
     "metadata": {},
     "output_type": "execute_result"
    }
   ],
   "source": [
    "cursor.execute('''\n",
    "SELECT COUNT(*) FROM employees\n",
    "''').fetchall()"
   ]
  },
  {
   "cell_type": "markdown",
   "metadata": {},
   "source": [
    "## Write 3 Questions of your own and answer them"
   ]
  },
  {
   "cell_type": "code",
   "execution_count": 65,
   "metadata": {},
   "outputs": [
    {
     "data": {
      "text/plain": [
       "[('Euro+ Shopping Channel', 26),\n",
       " ('Mini Gifts Distributors Ltd.', 17),\n",
       " ('Australian Collectors, Co.', 5)]"
      ]
     },
     "execution_count": 65,
     "metadata": {},
     "output_type": "execute_result"
    }
   ],
   "source": [
    "# Answers will vary \n",
    "# How many orders did each of the top three customers make? \n",
    "# How many orders and what were their names?\n",
    "\n",
    "cursor.execute('''\n",
    "SELECT customerName, COUNT(*) FROM customers\n",
    "    JOIN orders\n",
    "    ON orders.customerNumber = customers.customerNumber\n",
    "    GROUP BY customerName\n",
    "    ORDER BY COUNT(*) DESC LIMIT(3);\n",
    "''').fetchall()"
   ]
  },
  {
   "cell_type": "code",
   "execution_count": 83,
   "metadata": {},
   "outputs": [
    {
     "data": {
      "text/plain": [
       "[('Pamela', 'Castillo', 10), ('Barry', 'Jones', 9), ('George', 'Vanauf', 8)]"
      ]
     },
     "execution_count": 83,
     "metadata": {},
     "output_type": "execute_result"
    }
   ],
   "source": [
    "# Your code here\n",
    "# How many employees are there with the job title \"sales person\" are there?\n",
    "# How many customers does each sales rep have? \n",
    "# Who are the top three sales reps? \n",
    "cursor.execute('''\n",
    "SELECT firstName, lastName, COUNT(customerNumber) FROM employees\n",
    "    JOIN customers\n",
    "    ON customers.salesRepEmployeeNumber = employees.employeeNumber\n",
    "    WHERE jobTitle LIKE '%sales rep%'\n",
    "    OR jobTitle LIKE '%Sales Rep%'\n",
    "    GROUP BY employeeNumber\n",
    "    ORDER BY COUNT(customerNumber) DESC\n",
    "    LIMIT(3)\n",
    "''').fetchall()"
   ]
  },
  {
   "cell_type": "code",
   "execution_count": 86,
   "metadata": {},
   "outputs": [
    {
     "data": {
      "text/plain": [
       "[('AV Stores, Co.', 148410.09),\n",
       " ('Alpha Cognac', 60483.36),\n",
       " ('Amica Models & Co.', 82223.23),\n",
       " (\"Anna's Decorations, Ltd\", 137034.22),\n",
       " ('Atelier graphique', 22314.36),\n",
       " ('Australian Collectables, Ltd', 44920.759999999995),\n",
       " ('Australian Collectors, Co.', 180585.07),\n",
       " ('Australian Gift Network, Co', 55190.159999999996),\n",
       " ('Auto Associés & Cie.', 58876.409999999996),\n",
       " ('Auto Canal+ Petit', 86436.97),\n",
       " ('Auto-Moto Classics Inc.', 21554.260000000002),\n",
       " ('Baane Mini Imports', 104224.79),\n",
       " ('Bavarian Collectables Imports, Co.', 31310.09),\n",
       " ('Blauer See Auto, Co.', 75937.76000000001),\n",
       " ('Boards & Toys Co.', 7918.6),\n",
       " ('CAF Imports', 46751.14),\n",
       " ('Cambridge Collectables Co.', 32198.690000000002),\n",
       " ('Canadian Gift Exchange Network', 70122.19),\n",
       " ('Classic Gift Ideas, Inc', 57939.34),\n",
       " ('Classic Legends Inc.', 69214.33),\n",
       " ('Clover Collections, Co.', 49898.270000000004),\n",
       " ('Collectable Mini Designs Co.', 80375.24),\n",
       " ('Collectables For Less Inc.', 73533.65000000001),\n",
       " ('Corporate Gift Ideas Co.', 132340.78),\n",
       " ('Corrida Auto Replicas, Ltd', 112440.09),\n",
       " ('Cruz & Sons Co.', 87468.3),\n",
       " ('Daedalus Designs Imports', 61781.7),\n",
       " ('Danish Wholesale Imports', 107446.5),\n",
       " ('Diecast Classics Inc.', 98509.25),\n",
       " ('Diecast Collectables', 65541.74),\n",
       " ('Double Decker Gift Stores, Ltd', 29586.15),\n",
       " ('Down Under Souveniers, Inc', 154622.08000000002),\n",
       " ('Dragon Souveniers, Ltd.', 156251.03),\n",
       " ('Enaco Distributors', 68520.47),\n",
       " ('Euro+ Shopping Channel', 715738.9800000001),\n",
       " ('Extreme Desk Decorations, Ltd', 66704.94),\n",
       " ('Frau da Collezione', 25358.32),\n",
       " ('FunGiftIdeas.com', 88627.49),\n",
       " ('Gift Depot Inc.', 95424.63),\n",
       " ('Gift Ideas Corp.', 49967.78),\n",
       " ('Gifts4AllAges.com', 33533.47),\n",
       " ('GiftsForHim.com', 56662.38),\n",
       " ('Handji Gifts& Co', 105420.57),\n",
       " ('Heintze Collectables', 89909.79999999999),\n",
       " ('Herkku Gifts', 97562.47),\n",
       " ('Iberia Gift Imports, Corp.', 50987.850000000006),\n",
       " (\"Kelly's Gift Shop\", 114497.19),\n",
       " ('King Kong Collectables, Co.', 45480.79),\n",
       " (\"L'ordine Souveniers\", 90143.31),\n",
       " (\"La Corne D'abondance, Co.\", 86553.52),\n",
       " ('La Rochelle Gifts', 116949.68000000001),\n",
       " ('Land of Toys Inc.', 107639.94),\n",
       " ('Lyon Souveniers', 67659.19),\n",
       " ('Marseille Mini Autos', 71547.53),\n",
       " (\"Marta's Replicas Co.\", 90545.37),\n",
       " (\"Men 'R' US Retailers, Ltd.\", 41506.19),\n",
       " ('Microscale Inc.', 29230.43),\n",
       " ('Mini Auto Werke', 51059.990000000005),\n",
       " ('Mini Caravy', 75859.32),\n",
       " ('Mini Classics', 78432.16),\n",
       " ('Mini Creations Ltd.', 101872.51999999999),\n",
       " ('Mini Gifts Distributors Ltd.', 584188.24),\n",
       " ('Mini Wheels Co.', 66710.56),\n",
       " ('Motor Mint Distributors Inc.', 77726.59),\n",
       " ('Muscle Machine Inc', 177913.94999999998),\n",
       " ('Norway Gifts By Mail, Co.', 69059.04),\n",
       " ('Online Diecast Creations Co.', 116449.29000000001),\n",
       " ('Online Mini Collectables', 55577.26),\n",
       " ('Osaka Souveniers Co.', 62361.219999999994),\n",
       " ('Oulu Toy Supplies, Inc.', 95706.15),\n",
       " ('Petit Auto', 62253.850000000006),\n",
       " ('Québec Home Shopping Network', 68977.67),\n",
       " ('Reims Collectables', 126983.19),\n",
       " ('Rovelli Gifts', 127529.69),\n",
       " ('Royal Canadian Collectables, Ltd.', 66812.0),\n",
       " ('Royale Belge', 29217.180000000004),\n",
       " ('Salzburg Collectables', 85060.0),\n",
       " ('Saveley & Henriot, Co.', 130305.35),\n",
       " ('Scandinavian Gift Ideas', 76776.44),\n",
       " ('Signal Collectibles Ltd.', 42570.37),\n",
       " ('Signal Gift Stores', 80180.98),\n",
       " ('Souveniers And Things Co.', 91655.61000000002),\n",
       " ('Stylish Desk Decors, Co.', 80556.73),\n",
       " ('Suominen Souveniers', 103896.73999999999),\n",
       " ('Super Scale Inc.', 70378.65),\n",
       " ('Technics Stores Inc.', 104545.22),\n",
       " ('Tekni Collectables Inc.', 38281.509999999995),\n",
       " ('The Sharp Gifts Warehouse', 59551.38),\n",
       " ('Tokyo Collectables, Ltd', 105548.73),\n",
       " ('Toms Spezialitäten, Ltd', 89223.14),\n",
       " ('Toys of Finland, Co.', 95546.46),\n",
       " ('Toys4GrownUps.com', 93803.29999999999),\n",
       " ('UK Collectables, Ltd.', 61167.18000000001),\n",
       " ('Vida Sport, Ltd', 108777.92),\n",
       " ('Vitachrome Inc.', 72497.64),\n",
       " ('Volvo Model Replicas, Co', 43680.65),\n",
       " ('West Coast Collectables Co.', 43748.72),\n",
       " ('giftsbymail.co.uk', 71783.75)]"
      ]
     },
     "execution_count": 86,
     "metadata": {},
     "output_type": "execute_result"
    }
   ],
   "source": [
    "# Your code here\n",
    "# How much are customers paying in amount?\n",
    "cursor.execute('''\n",
    "SELECT customerName, SUM(amount) FROM customers\n",
    "    JOIN payments\n",
    "    ON payments.customerNumber = customers.customerNumber\n",
    "    GROUP BY customerName\n",
    "    ORDER BY \n",
    "''').fetchall()"
   ]
  },
  {
   "cell_type": "code",
   "execution_count": null,
   "metadata": {},
   "outputs": [],
   "source": [
    "# Your code here"
   ]
  },
  {
   "cell_type": "markdown",
   "metadata": {},
   "source": [
    "## Level Up: Display the names of each product each employee has sold."
   ]
  },
  {
   "cell_type": "code",
   "execution_count": null,
   "metadata": {},
   "outputs": [],
   "source": [
    "# Your code here"
   ]
  },
  {
   "cell_type": "markdown",
   "metadata": {},
   "source": [
    "## Level Up: Display the Number of Products each Employee Has sold"
   ]
  },
  {
   "cell_type": "code",
   "execution_count": null,
   "metadata": {},
   "outputs": [],
   "source": [
    "#Your code here"
   ]
  },
  {
   "cell_type": "markdown",
   "metadata": {},
   "source": [
    "## Summary"
   ]
  },
  {
   "cell_type": "markdown",
   "metadata": {},
   "source": [
    "Congrats! You now know how to use Join statements, along with leveraging your foreign keys knowledge!"
   ]
  }
 ],
 "metadata": {
  "kernelspec": {
   "display_name": "Python 3",
   "language": "python",
   "name": "python3"
  },
  "language_info": {
   "codemirror_mode": {
    "name": "ipython",
    "version": 3
   },
   "file_extension": ".py",
   "mimetype": "text/x-python",
   "name": "python",
   "nbconvert_exporter": "python",
   "pygments_lexer": "ipython3",
   "version": "3.6.6"
  }
 },
 "nbformat": 4,
 "nbformat_minor": 2
}
