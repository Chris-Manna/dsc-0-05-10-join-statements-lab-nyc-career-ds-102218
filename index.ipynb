{
 "cells": [
  {
   "cell_type": "markdown",
   "metadata": {},
   "source": [
    "# Join Statements"
   ]
  },
  {
   "cell_type": "markdown",
   "metadata": {},
   "source": [
    "## Introduction"
   ]
  },
  {
   "cell_type": "markdown",
   "metadata": {},
   "source": [
    "In this lab, you'll practice your knowledge on Join statements."
   ]
  },
  {
   "cell_type": "markdown",
   "metadata": {},
   "source": [
    "## Objectives"
   ]
  },
  {
   "cell_type": "markdown",
   "metadata": {},
   "source": [
    "You will be able to:\n",
    "- Write queries that make use of various types of Joins\n",
    "- Join tables using foreign keys"
   ]
  },
  {
   "cell_type": "markdown",
   "metadata": {},
   "source": [
    "## CRM Schema\n",
    "\n",
    "In almost all cases, rather then just working with a single table we will typically need data from multiple tables. \n",
    "Doing this requires the use of **joins ** using shared columns from the two tables. \n",
    "\n",
    "In this lab, we'll use the same Customer Relationship Management (CRM) database we used in our lecture before!\n",
    "<img src='Database-Schema.png' width=550>"
   ]
  },
  {
   "cell_type": "markdown",
   "metadata": {},
   "source": [
    "## Connecting to the Database\n",
    "Import the necessary packages and connect to the database **data.sqlite**."
   ]
  },
  {
   "cell_type": "code",
   "execution_count": 2,
   "metadata": {},
   "outputs": [],
   "source": [
    "#Your code here\n",
    "import sqlite3\n",
    "import pandas as pd\n",
    "\n",
    "conn = sqlite3.connect('data.sqlite', detect_types = sqlite3.PARSE_COLNAMES)\n",
    "cursor = conn.cursor()"
   ]
  },
  {
   "cell_type": "markdown",
   "metadata": {},
   "source": [
    "## Display the names of all the employees in Boston."
   ]
  },
  {
   "cell_type": "code",
   "execution_count": 20,
   "metadata": {},
   "outputs": [
    {
     "data": {
      "text/plain": [
       "[('Julie',), ('Steve',)]"
      ]
     },
     "execution_count": 20,
     "metadata": {},
     "output_type": "execute_result"
    }
   ],
   "source": [
    "#Your code here\n",
    "cursor.execute(\"\"\"\n",
    "SELECT firstName FROM employees\n",
    "    join offices\n",
    "    on employees.officeCode = offices.officeCode\n",
    "    WHERE city = 'Boston';\n",
    "\"\"\").fetchall()"
   ]
  },
  {
   "cell_type": "markdown",
   "metadata": {},
   "source": [
    "## Do any offices have no employees?"
   ]
  },
  {
   "cell_type": "code",
   "execution_count": 47,
   "metadata": {},
   "outputs": [
    {
     "data": {
      "text/plain": [
       "[(1, 'Boston'),\n",
       " (1, 'London'),\n",
       " (1, 'NYC'),\n",
       " (1, 'Paris'),\n",
       " (1, 'San Francisco'),\n",
       " (1, 'Sydney'),\n",
       " (1, 'Tokyo')]"
      ]
     },
     "execution_count": 47,
     "metadata": {},
     "output_type": "execute_result"
    }
   ],
   "source": [
    "#Your code here\n",
    "cursor.execute('''\n",
    "SELECT COUNT(*), city FROM offices \n",
    "    GROUP BY offices.city\n",
    "    ORDER BY offices.city\n",
    "''').fetchall()\n"
   ]
  },
  {
   "cell_type": "code",
   "execution_count": 46,
   "metadata": {
    "scrolled": true
   },
   "outputs": [
    {
     "data": {
      "text/plain": [
       "[(2, 'Boston'),\n",
       " (2, 'London'),\n",
       " (2, 'NYC'),\n",
       " (5, 'Paris'),\n",
       " (6, 'San Francisco'),\n",
       " (4, 'Sydney'),\n",
       " (2, 'Tokyo')]"
      ]
     },
     "execution_count": 46,
     "metadata": {},
     "output_type": "execute_result"
    }
   ],
   "source": [
    "cursor.execute(\"\"\"\n",
    "SELECT COUNT(*), city FROM offices \n",
    "    JOIN employees\n",
    "    ON offices.officeCode = employees.officeCode\n",
    "    GROUP BY offices.officeCode\n",
    "    ORDER BY offices.city\n",
    "\"\"\").fetchall()\n",
    "#    WHERE COUNT(employees.employeeNumber) = 0;"
   ]
  },
  {
   "cell_type": "code",
   "execution_count": 49,
   "metadata": {},
   "outputs": [
    {
     "data": {
      "text/plain": [
       "[(23,)]"
      ]
     },
     "execution_count": 49,
     "metadata": {},
     "output_type": "execute_result"
    }
   ],
   "source": [
    "cursor.execute('''\n",
    "SELECT COUNT(*) FROM employees\n",
    "''').fetchall()"
   ]
  },
  {
   "cell_type": "markdown",
   "metadata": {},
   "source": [
    "## Write 3 Questions of your own and answer them"
   ]
  },
  {
   "cell_type": "code",
   "execution_count": 65,
   "metadata": {},
   "outputs": [
    {
     "data": {
      "text/plain": [
       "[('Euro+ Shopping Channel', 26),\n",
       " ('Mini Gifts Distributors Ltd.', 17),\n",
       " ('Australian Collectors, Co.', 5)]"
      ]
     },
     "execution_count": 65,
     "metadata": {},
     "output_type": "execute_result"
    }
   ],
   "source": [
    "# Answers will vary \n",
    "# How many orders did each of the top three customers make? \n",
    "# How many orders and what were their names?\n",
    "\n",
    "cursor.execute('''\n",
    "SELECT customerName, COUNT(*) FROM customers\n",
    "    JOIN orders\n",
    "    ON orders.customerNumber = customers.customerNumber\n",
    "    GROUP BY customerName\n",
    "    ORDER BY COUNT(*) DESC LIMIT(3);\n",
    "''').fetchall()"
   ]
  },
  {
   "cell_type": "code",
   "execution_count": 83,
   "metadata": {},
   "outputs": [
    {
     "data": {
      "text/plain": [
       "[('Pamela', 'Castillo', 10), ('Barry', 'Jones', 9), ('George', 'Vanauf', 8)]"
      ]
     },
     "execution_count": 83,
     "metadata": {},
     "output_type": "execute_result"
    }
   ],
   "source": [
    "# Your code here\n",
    "# How many employees are there with the job title \"sales person\" are there?\n",
    "# How many customers does each sales rep have? \n",
    "# Who are the top three sales reps? \n",
    "cursor.execute('''\n",
    "SELECT firstName, lastName, COUNT(customerNumber) FROM employees\n",
    "    JOIN customers\n",
    "    ON customers.salesRepEmployeeNumber = employees.employeeNumber\n",
    "    WHERE jobTitle LIKE '%sales rep%'\n",
    "    OR jobTitle LIKE '%Sales Rep%'\n",
    "    GROUP BY employeeNumber\n",
    "    ORDER BY COUNT(customerNumber) DESC\n",
    "    LIMIT(3)\n",
    "''').fetchall()"
   ]
  },
  {
   "cell_type": "code",
   "execution_count": 91,
   "metadata": {},
   "outputs": [
    {
     "data": {
      "text/plain": [
       "[('Euro+ Shopping Channel', 715738.9800000001),\n",
       " ('Mini Gifts Distributors Ltd.', 584188.24),\n",
       " ('Australian Collectors, Co.', 180585.07)]"
      ]
     },
     "execution_count": 91,
     "metadata": {},
     "output_type": "execute_result"
    }
   ],
   "source": [
    "# Your code here\n",
    "# How much are customers paying in amount?\n",
    "# How much are the top three customers paying in total amount? \n",
    "cursor.execute('''\n",
    "SELECT customerName, SUM(amount) FROM customers\n",
    "    JOIN payments\n",
    "    ON payments.customerNumber = customers.customerNumber\n",
    "    GROUP BY customerName\n",
    "    ORDER BY SUM(amount) DESC\n",
    "    LIMIT(3)\n",
    "''').fetchall()"
   ]
  },
  {
   "cell_type": "code",
   "execution_count": null,
   "metadata": {},
   "outputs": [],
   "source": [
    "# Your code here"
   ]
  },
  {
   "cell_type": "markdown",
   "metadata": {},
   "source": [
    "## Level Up: Display the names of each product each employee has sold."
   ]
  },
  {
   "cell_type": "code",
   "execution_count": 97,
   "metadata": {},
   "outputs": [
    {
     "data": {
      "text/plain": [
       "[('Leslie', 'Jennings'),\n",
       " ('Leslie', 'Jennings'),\n",
       " ('Leslie', 'Jennings'),\n",
       " ('Leslie', 'Jennings'),\n",
       " ('Leslie', 'Jennings'),\n",
       " ('Leslie', 'Jennings'),\n",
       " ('Leslie', 'Thompson'),\n",
       " ('Leslie', 'Thompson'),\n",
       " ('Leslie', 'Thompson'),\n",
       " ('Leslie', 'Thompson'),\n",
       " ('Leslie', 'Thompson'),\n",
       " ('Leslie', 'Thompson'),\n",
       " ('Julie', 'Firrelli'),\n",
       " ('Julie', 'Firrelli'),\n",
       " ('Julie', 'Firrelli'),\n",
       " ('Julie', 'Firrelli'),\n",
       " ('Julie', 'Firrelli'),\n",
       " ('Julie', 'Firrelli'),\n",
       " ('Steve', 'Patterson'),\n",
       " ('Steve', 'Patterson'),\n",
       " ('Steve', 'Patterson'),\n",
       " ('Steve', 'Patterson'),\n",
       " ('Steve', 'Patterson'),\n",
       " ('Steve', 'Patterson'),\n",
       " ('Foon Yue', 'Tseng'),\n",
       " ('Foon Yue', 'Tseng'),\n",
       " ('Foon Yue', 'Tseng'),\n",
       " ('Foon Yue', 'Tseng'),\n",
       " ('Foon Yue', 'Tseng'),\n",
       " ('Foon Yue', 'Tseng'),\n",
       " ('Foon Yue', 'Tseng'),\n",
       " ('George', 'Vanauf'),\n",
       " ('George', 'Vanauf'),\n",
       " ('George', 'Vanauf'),\n",
       " ('George', 'Vanauf'),\n",
       " ('George', 'Vanauf'),\n",
       " ('George', 'Vanauf'),\n",
       " ('George', 'Vanauf'),\n",
       " ('George', 'Vanauf'),\n",
       " ('Loui', 'Bondur'),\n",
       " ('Loui', 'Bondur'),\n",
       " ('Loui', 'Bondur'),\n",
       " ('Loui', 'Bondur'),\n",
       " ('Loui', 'Bondur'),\n",
       " ('Loui', 'Bondur'),\n",
       " ('Gerard', 'Hernandez'),\n",
       " ('Gerard', 'Hernandez'),\n",
       " ('Gerard', 'Hernandez'),\n",
       " ('Gerard', 'Hernandez'),\n",
       " ('Gerard', 'Hernandez'),\n",
       " ('Gerard', 'Hernandez'),\n",
       " ('Gerard', 'Hernandez'),\n",
       " ('Pamela', 'Castillo'),\n",
       " ('Pamela', 'Castillo'),\n",
       " ('Pamela', 'Castillo'),\n",
       " ('Pamela', 'Castillo'),\n",
       " ('Pamela', 'Castillo'),\n",
       " ('Pamela', 'Castillo'),\n",
       " ('Pamela', 'Castillo'),\n",
       " ('Pamela', 'Castillo'),\n",
       " ('Pamela', 'Castillo'),\n",
       " ('Pamela', 'Castillo'),\n",
       " ('Larry', 'Bott'),\n",
       " ('Larry', 'Bott'),\n",
       " ('Larry', 'Bott'),\n",
       " ('Larry', 'Bott'),\n",
       " ('Larry', 'Bott'),\n",
       " ('Larry', 'Bott'),\n",
       " ('Larry', 'Bott'),\n",
       " ('Larry', 'Bott'),\n",
       " ('Barry', 'Jones'),\n",
       " ('Barry', 'Jones'),\n",
       " ('Barry', 'Jones'),\n",
       " ('Barry', 'Jones'),\n",
       " ('Barry', 'Jones'),\n",
       " ('Barry', 'Jones'),\n",
       " ('Barry', 'Jones'),\n",
       " ('Barry', 'Jones'),\n",
       " ('Barry', 'Jones'),\n",
       " ('Andy', 'Fixter'),\n",
       " ('Andy', 'Fixter'),\n",
       " ('Andy', 'Fixter'),\n",
       " ('Andy', 'Fixter'),\n",
       " ('Andy', 'Fixter'),\n",
       " ('Peter', 'Marsh'),\n",
       " ('Peter', 'Marsh'),\n",
       " ('Peter', 'Marsh'),\n",
       " ('Peter', 'Marsh'),\n",
       " ('Peter', 'Marsh'),\n",
       " ('Mami', 'Nishi'),\n",
       " ('Mami', 'Nishi'),\n",
       " ('Mami', 'Nishi'),\n",
       " ('Mami', 'Nishi'),\n",
       " ('Mami', 'Nishi'),\n",
       " ('Martin', 'Gerard'),\n",
       " ('Martin', 'Gerard'),\n",
       " ('Martin', 'Gerard'),\n",
       " ('Martin', 'Gerard'),\n",
       " ('Martin', 'Gerard'),\n",
       " ('Martin', 'Gerard')]"
      ]
     },
     "execution_count": 97,
     "metadata": {},
     "output_type": "execute_result"
    }
   ],
   "source": [
    "# Your code here\n",
    "cursor.execute('''\n",
    "SELECT firstName, lastName FROM employees\n",
    "    JOIN customers\n",
    "    ON employees.employeeNumber = salesRepEmployeeNumber\n",
    "    JOIN orders\n",
    "    ON orders.customerNumber = customers.customerNumber\n",
    "    JOIN orderdetails\n",
    "    ON orderdetails.orderNumber = orderNumber\n",
    "    JOIN products\n",
    "    ON orderdetails.productCode = products.productCode\n",
    "    g\n",
    "''').fetchall()"
   ]
  },
  {
   "cell_type": "markdown",
   "metadata": {},
   "source": [
    "## Level Up: Display the Number of Products each Employee Has sold"
   ]
  },
  {
   "cell_type": "code",
   "execution_count": null,
   "metadata": {},
   "outputs": [],
   "source": [
    "#Your code here"
   ]
  },
  {
   "cell_type": "markdown",
   "metadata": {},
   "source": [
    "## Summary"
   ]
  },
  {
   "cell_type": "markdown",
   "metadata": {},
   "source": [
    "Congrats! You now know how to use Join statements, along with leveraging your foreign keys knowledge!"
   ]
  }
 ],
 "metadata": {
  "kernelspec": {
   "display_name": "Python 3",
   "language": "python",
   "name": "python3"
  },
  "language_info": {
   "codemirror_mode": {
    "name": "ipython",
    "version": 3
   },
   "file_extension": ".py",
   "mimetype": "text/x-python",
   "name": "python",
   "nbconvert_exporter": "python",
   "pygments_lexer": "ipython3",
   "version": "3.6.6"
  }
 },
 "nbformat": 4,
 "nbformat_minor": 2
}
