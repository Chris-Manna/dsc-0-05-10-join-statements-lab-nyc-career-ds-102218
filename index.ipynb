{
 "cells": [
  {
   "cell_type": "markdown",
   "metadata": {},
   "source": [
    "# Join Statements"
   ]
  },
  {
   "cell_type": "markdown",
   "metadata": {},
   "source": [
    "## Introduction"
   ]
  },
  {
   "cell_type": "markdown",
   "metadata": {},
   "source": [
    "In this lab, you'll practice your knowledge on Join statements."
   ]
  },
  {
   "cell_type": "markdown",
   "metadata": {},
   "source": [
    "## Objectives"
   ]
  },
  {
   "cell_type": "markdown",
   "metadata": {},
   "source": [
    "You will be able to:\n",
    "- Write queries that make use of various types of Joins\n",
    "- Join tables using foreign keys"
   ]
  },
  {
   "cell_type": "markdown",
   "metadata": {},
   "source": [
    "## CRM Schema\n",
    "\n",
    "In almost all cases, rather then just working with a single table we will typically need data from multiple tables. \n",
    "Doing this requires the use of **joins ** using shared columns from the two tables. \n",
    "\n",
    "In this lab, we'll use the same Customer Relationship Management (CRM) database we used in our lecture before!\n",
    "<img src='Database-Schema.png' width=550>"
   ]
  },
  {
   "cell_type": "markdown",
   "metadata": {},
   "source": [
    "## Connecting to the Database\n",
    "Import the necessary packages and connect to the database **data.sqlite**."
   ]
  },
  {
   "cell_type": "code",
   "execution_count": 2,
   "metadata": {},
   "outputs": [],
   "source": [
    "#Your code here\n",
    "import sqlite3\n",
    "import pandas as pd\n",
    "\n",
    "conn = sqlite3.connect('data.sqlite', detect_types = sqlite3.PARSE_COLNAMES)\n",
    "cursor = conn.cursor()"
   ]
  },
  {
   "cell_type": "markdown",
   "metadata": {},
   "source": [
    "## Display the names of all the employees in Boston."
   ]
  },
  {
   "cell_type": "code",
   "execution_count": 20,
   "metadata": {},
   "outputs": [
    {
     "data": {
      "text/plain": [
       "[('Julie',), ('Steve',)]"
      ]
     },
     "execution_count": 20,
     "metadata": {},
     "output_type": "execute_result"
    }
   ],
   "source": [
    "#Your code here\n",
    "cursor.execute(\"\"\"\n",
    "SELECT firstName FROM employees\n",
    "    join offices\n",
    "    on employees.officeCode = offices.officeCode\n",
    "    WHERE city = 'Boston';\n",
    "\"\"\").fetchall()"
   ]
  },
  {
   "cell_type": "markdown",
   "metadata": {},
   "source": [
    "## Do any offices have no employees?"
   ]
  },
  {
   "cell_type": "code",
   "execution_count": 47,
   "metadata": {},
   "outputs": [
    {
     "data": {
      "text/plain": [
       "[(1, 'Boston'),\n",
       " (1, 'London'),\n",
       " (1, 'NYC'),\n",
       " (1, 'Paris'),\n",
       " (1, 'San Francisco'),\n",
       " (1, 'Sydney'),\n",
       " (1, 'Tokyo')]"
      ]
     },
     "execution_count": 47,
     "metadata": {},
     "output_type": "execute_result"
    }
   ],
   "source": [
    "#Your code here\n",
    "cursor.execute('''\n",
    "SELECT COUNT(*), city FROM offices \n",
    "    GROUP BY offices.city\n",
    "    ORDER BY offices.city\n",
    "''').fetchall()\n"
   ]
  },
  {
   "cell_type": "code",
   "execution_count": 46,
   "metadata": {
    "scrolled": true
   },
   "outputs": [
    {
     "data": {
      "text/plain": [
       "[(2, 'Boston'),\n",
       " (2, 'London'),\n",
       " (2, 'NYC'),\n",
       " (5, 'Paris'),\n",
       " (6, 'San Francisco'),\n",
       " (4, 'Sydney'),\n",
       " (2, 'Tokyo')]"
      ]
     },
     "execution_count": 46,
     "metadata": {},
     "output_type": "execute_result"
    }
   ],
   "source": [
    "cursor.execute(\"\"\"\n",
    "SELECT COUNT(*), city FROM offices \n",
    "    JOIN employees\n",
    "    ON offices.officeCode = employees.officeCode\n",
    "    GROUP BY offices.officeCode\n",
    "    ORDER BY offices.city\n",
    "\"\"\").fetchall()\n",
    "#    WHERE COUNT(employees.employeeNumber) = 0;"
   ]
  },
  {
   "cell_type": "code",
   "execution_count": 49,
   "metadata": {},
   "outputs": [
    {
     "data": {
      "text/plain": [
       "[(23,)]"
      ]
     },
     "execution_count": 49,
     "metadata": {},
     "output_type": "execute_result"
    }
   ],
   "source": [
    "cursor.execute('''\n",
    "SELECT COUNT(*) FROM employees\n",
    "''').fetchall()"
   ]
  },
  {
   "cell_type": "markdown",
   "metadata": {},
   "source": [
    "## Write 3 Questions of your own and answer them"
   ]
  },
  {
   "cell_type": "code",
   "execution_count": 58,
   "metadata": {},
   "outputs": [
    {
     "data": {
      "text/plain": [
       "[('Atelier graphique',),\n",
       " ('Signal Gift Stores',),\n",
       " ('Australian Collectors, Co.',),\n",
       " ('La Rochelle Gifts',),\n",
       " ('Baane Mini Imports',),\n",
       " ('Mini Gifts Distributors Ltd.',),\n",
       " ('Havel & Zbyszek Co',),\n",
       " ('Blauer See Auto, Co.',),\n",
       " ('Mini Wheels Co.',),\n",
       " ('Land of Toys Inc.',),\n",
       " ('Euro+ Shopping Channel',),\n",
       " ('Volvo Model Replicas, Co',),\n",
       " ('Danish Wholesale Imports',),\n",
       " ('Saveley & Henriot, Co.',),\n",
       " ('Dragon Souveniers, Ltd.',),\n",
       " ('Muscle Machine Inc',),\n",
       " ('Diecast Classics Inc.',),\n",
       " ('Technics Stores Inc.',),\n",
       " ('Handji Gifts& Co',),\n",
       " ('Herkku Gifts',),\n",
       " ('American Souvenirs Inc',),\n",
       " ('Porto Imports Co.',),\n",
       " ('Daedalus Designs Imports',),\n",
       " (\"La Corne D'abondance, Co.\",),\n",
       " ('Cambridge Collectables Co.',),\n",
       " ('Gift Depot Inc.',),\n",
       " ('Osaka Souveniers Co.',),\n",
       " ('Vitachrome Inc.',),\n",
       " ('Toys of Finland, Co.',),\n",
       " ('AV Stores, Co.',),\n",
       " ('Clover Collections, Co.',),\n",
       " ('Auto-Moto Classics Inc.',),\n",
       " ('UK Collectables, Ltd.',),\n",
       " ('Canadian Gift Exchange Network',),\n",
       " ('Online Mini Collectables',),\n",
       " ('Toys4GrownUps.com',),\n",
       " ('Asian Shopping Network, Co',),\n",
       " ('Mini Caravy',),\n",
       " ('King Kong Collectables, Co.',),\n",
       " ('Enaco Distributors',),\n",
       " ('Boards & Toys Co.',),\n",
       " ('Natürlich Autos',),\n",
       " ('Heintze Collectables',),\n",
       " ('Québec Home Shopping Network',),\n",
       " ('ANG Resellers',),\n",
       " ('Collectable Mini Designs Co.',),\n",
       " ('giftsbymail.co.uk',),\n",
       " ('Alpha Cognac',),\n",
       " ('Messner Shopping Network',),\n",
       " ('Amica Models & Co.',),\n",
       " ('Lyon Souveniers',),\n",
       " ('Auto Associés & Cie.',),\n",
       " ('Toms Spezialitäten, Ltd',),\n",
       " ('Royal Canadian Collectables, Ltd.',),\n",
       " ('Franken Gifts, Co',),\n",
       " (\"Anna's Decorations, Ltd\",),\n",
       " ('Rovelli Gifts',),\n",
       " ('Souveniers And Things Co.',),\n",
       " (\"Marta's Replicas Co.\",),\n",
       " ('BG&E Collectables',),\n",
       " ('Vida Sport, Ltd',),\n",
       " ('Norway Gifts By Mail, Co.',),\n",
       " ('Schuyler Imports',),\n",
       " ('Der Hund Imports',),\n",
       " ('Oulu Toy Supplies, Inc.',),\n",
       " ('Petit Auto',),\n",
       " ('Mini Classics',),\n",
       " ('Mini Creations Ltd.',),\n",
       " ('Corporate Gift Ideas Co.',),\n",
       " ('Down Under Souveniers, Inc',),\n",
       " ('Stylish Desk Decors, Co.',),\n",
       " ('Tekni Collectables Inc.',),\n",
       " ('Australian Gift Network, Co',),\n",
       " ('Suominen Souveniers',),\n",
       " ('Cramer Spezialitäten, Ltd',),\n",
       " ('Classic Gift Ideas, Inc',),\n",
       " ('CAF Imports',),\n",
       " (\"Men 'R' US Retailers, Ltd.\",),\n",
       " ('Asian Treasures, Inc.',),\n",
       " ('Marseille Mini Autos',),\n",
       " ('Reims Collectables',),\n",
       " ('SAR Distributors, Co',),\n",
       " ('GiftsForHim.com',),\n",
       " ('Kommission Auto',),\n",
       " ('Gifts4AllAges.com',),\n",
       " ('Online Diecast Creations Co.',),\n",
       " ('Lisboa Souveniers, Inc',),\n",
       " ('Precious Collectables',),\n",
       " ('Collectables For Less Inc.',),\n",
       " ('Royale Belge',),\n",
       " ('Salzburg Collectables',),\n",
       " ('Cruz & Sons Co.',),\n",
       " (\"L'ordine Souveniers\",),\n",
       " ('Tokyo Collectables, Ltd',),\n",
       " ('Auto Canal+ Petit',),\n",
       " ('Stuttgart Collectable Exchange',),\n",
       " ('Extreme Desk Decorations, Ltd',),\n",
       " ('Bavarian Collectables Imports, Co.',),\n",
       " ('Classic Legends Inc.',),\n",
       " ('Feuer Online Stores, Inc',),\n",
       " ('Gift Ideas Corp.',),\n",
       " ('Scandinavian Gift Ideas',),\n",
       " ('The Sharp Gifts Warehouse',),\n",
       " ('Mini Auto Werke',),\n",
       " ('Super Scale Inc.',),\n",
       " ('Microscale Inc.',),\n",
       " ('Corrida Auto Replicas, Ltd',),\n",
       " ('Warburg Exchange',),\n",
       " ('FunGiftIdeas.com',),\n",
       " ('Anton Designs, Ltd.',),\n",
       " ('Australian Collectables, Ltd',),\n",
       " ('Frau da Collezione',),\n",
       " ('West Coast Collectables Co.',),\n",
       " ('Mit Vergnügen & Co.',),\n",
       " ('Kremlin Collectables, Co.',),\n",
       " ('Raanan Stores, Inc',),\n",
       " ('Iberia Gift Imports, Corp.',),\n",
       " ('Motor Mint Distributors Inc.',),\n",
       " ('Signal Collectibles Ltd.',),\n",
       " ('Double Decker Gift Stores, Ltd',),\n",
       " ('Diecast Collectables',),\n",
       " (\"Kelly's Gift Shop\",)]"
      ]
     },
     "execution_count": 58,
     "metadata": {},
     "output_type": "execute_result"
    }
   ],
   "source": [
    "# Answers will vary \n",
    "# How many orders has each customer made? \n",
    "\n",
    "cursor.execute('''\n",
    "SELECT customerName FROM customers\n",
    "    JOIN orders\n",
    "    ON orders.customerNumber = customers.customerNumber\n",
    "    GROUP BY customer;\n",
    "''').fetchall()\n",
    "\n"
   ]
  },
  {
   "cell_type": "code",
   "execution_count": null,
   "metadata": {},
   "outputs": [],
   "source": [
    "# Your code here"
   ]
  },
  {
   "cell_type": "code",
   "execution_count": null,
   "metadata": {},
   "outputs": [],
   "source": [
    "# Your code here"
   ]
  },
  {
   "cell_type": "code",
   "execution_count": null,
   "metadata": {},
   "outputs": [],
   "source": [
    "# Your code here"
   ]
  },
  {
   "cell_type": "markdown",
   "metadata": {},
   "source": [
    "## Level Up: Display the names of each product each employee has sold."
   ]
  },
  {
   "cell_type": "code",
   "execution_count": null,
   "metadata": {},
   "outputs": [],
   "source": [
    "# Your code here"
   ]
  },
  {
   "cell_type": "markdown",
   "metadata": {},
   "source": [
    "## Level Up: Display the Number of Products each Employee Has sold"
   ]
  },
  {
   "cell_type": "code",
   "execution_count": null,
   "metadata": {},
   "outputs": [],
   "source": [
    "#Your code here"
   ]
  },
  {
   "cell_type": "markdown",
   "metadata": {},
   "source": [
    "## Summary"
   ]
  },
  {
   "cell_type": "markdown",
   "metadata": {},
   "source": [
    "Congrats! You now know how to use Join statements, along with leveraging your foreign keys knowledge!"
   ]
  }
 ],
 "metadata": {
  "kernelspec": {
   "display_name": "Python 3",
   "language": "python",
   "name": "python3"
  },
  "language_info": {
   "codemirror_mode": {
    "name": "ipython",
    "version": 3
   },
   "file_extension": ".py",
   "mimetype": "text/x-python",
   "name": "python",
   "nbconvert_exporter": "python",
   "pygments_lexer": "ipython3",
   "version": "3.6.6"
  }
 },
 "nbformat": 4,
 "nbformat_minor": 2
}
