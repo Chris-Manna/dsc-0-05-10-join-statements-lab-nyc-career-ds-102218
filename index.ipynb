{
 "cells": [
  {
   "cell_type": "markdown",
   "metadata": {},
   "source": [
    "# Join Statements"
   ]
  },
  {
   "cell_type": "markdown",
   "metadata": {},
   "source": [
    "## Introduction"
   ]
  },
  {
   "cell_type": "markdown",
   "metadata": {},
   "source": [
    "In this lab, you'll practice your knowledge on Join statements."
   ]
  },
  {
   "cell_type": "markdown",
   "metadata": {},
   "source": [
    "## Objectives"
   ]
  },
  {
   "cell_type": "markdown",
   "metadata": {},
   "source": [
    "You will be able to:\n",
    "- Write queries that make use of various types of Joins\n",
    "- Join tables using foreign keys"
   ]
  },
  {
   "cell_type": "markdown",
   "metadata": {},
   "source": [
    "## CRM Schema\n",
    "\n",
    "In almost all cases, rather then just working with a single table we will typically need data from multiple tables. \n",
    "Doing this requires the use of **joins ** using shared columns from the two tables. \n",
    "\n",
    "In this lab, we'll use the same Customer Relationship Management (CRM) database we used in our lecture before!\n",
    "<img src='Database-Schema.png' width=550>"
   ]
  },
  {
   "cell_type": "markdown",
   "metadata": {},
   "source": [
    "## Connecting to the Database\n",
    "Import the necessary packages and connect to the database **data.sqlite**."
   ]
  },
  {
   "cell_type": "code",
   "execution_count": 2,
   "metadata": {},
   "outputs": [],
   "source": [
    "#Your code here\n",
    "import sqlite3\n",
    "import pandas as pd\n",
    "\n",
    "conn = sqlite3.connect('data.sqlite', detect_types = sqlite3.PARSE_COLNAMES)\n",
    "cursor = conn.cursor()"
   ]
  },
  {
   "cell_type": "markdown",
   "metadata": {},
   "source": [
    "## Display the names of all the employees in Boston."
   ]
  },
  {
   "cell_type": "code",
   "execution_count": 20,
   "metadata": {},
   "outputs": [
    {
     "data": {
      "text/plain": [
       "[('Julie',), ('Steve',)]"
      ]
     },
     "execution_count": 20,
     "metadata": {},
     "output_type": "execute_result"
    }
   ],
   "source": [
    "#Your code here\n",
    "cursor.execute(\"\"\"\n",
    "SELECT firstName FROM employees\n",
    "    join offices\n",
    "    on employees.officeCode = offices.officeCode\n",
    "    WHERE city = 'Boston';\n",
    "\"\"\").fetchall()"
   ]
  },
  {
   "cell_type": "markdown",
   "metadata": {},
   "source": [
    "## Do any offices have no employees?"
   ]
  },
  {
   "cell_type": "code",
   "execution_count": 47,
   "metadata": {},
   "outputs": [
    {
     "data": {
      "text/plain": [
       "[(1, 'Boston'),\n",
       " (1, 'London'),\n",
       " (1, 'NYC'),\n",
       " (1, 'Paris'),\n",
       " (1, 'San Francisco'),\n",
       " (1, 'Sydney'),\n",
       " (1, 'Tokyo')]"
      ]
     },
     "execution_count": 47,
     "metadata": {},
     "output_type": "execute_result"
    }
   ],
   "source": [
    "#Your code here\n",
    "cursor.execute('''\n",
    "SELECT COUNT(*), city FROM offices \n",
    "    GROUP BY offices.city\n",
    "    ORDER BY offices.city\n",
    "''').fetchall()\n"
   ]
  },
  {
   "cell_type": "code",
   "execution_count": 46,
   "metadata": {
    "scrolled": true
   },
   "outputs": [
    {
     "data": {
      "text/plain": [
       "[(2, 'Boston'),\n",
       " (2, 'London'),\n",
       " (2, 'NYC'),\n",
       " (5, 'Paris'),\n",
       " (6, 'San Francisco'),\n",
       " (4, 'Sydney'),\n",
       " (2, 'Tokyo')]"
      ]
     },
     "execution_count": 46,
     "metadata": {},
     "output_type": "execute_result"
    }
   ],
   "source": [
    "cursor.execute(\"\"\"\n",
    "SELECT COUNT(*), city FROM offices \n",
    "    JOIN employees\n",
    "    ON offices.officeCode = employees.officeCode\n",
    "    GROUP BY offices.officeCode\n",
    "    ORDER BY offices.city\n",
    "\"\"\").fetchall()\n",
    "#    WHERE COUNT(employees.employeeNumber) = 0;"
   ]
  },
  {
   "cell_type": "code",
   "execution_count": 49,
   "metadata": {},
   "outputs": [
    {
     "data": {
      "text/plain": [
       "[(23,)]"
      ]
     },
     "execution_count": 49,
     "metadata": {},
     "output_type": "execute_result"
    }
   ],
   "source": [
    "cursor.execute('''\n",
    "SELECT COUNT(*) FROM employees\n",
    "''').fetchall()"
   ]
  },
  {
   "cell_type": "markdown",
   "metadata": {},
   "source": [
    "## Write 3 Questions of your own and answer them"
   ]
  },
  {
   "cell_type": "code",
   "execution_count": 65,
   "metadata": {},
   "outputs": [
    {
     "data": {
      "text/plain": [
       "[('Euro+ Shopping Channel', 26),\n",
       " ('Mini Gifts Distributors Ltd.', 17),\n",
       " ('Australian Collectors, Co.', 5)]"
      ]
     },
     "execution_count": 65,
     "metadata": {},
     "output_type": "execute_result"
    }
   ],
   "source": [
    "# Answers will vary \n",
    "# How many orders did each of the top three customers make? \n",
    "# How many orders and what were their names?\n",
    "\n",
    "cursor.execute('''\n",
    "SELECT customerName, COUNT(*) FROM customers\n",
    "    JOIN orders\n",
    "    ON orders.customerNumber = customers.customerNumber\n",
    "    GROUP BY customerName\n",
    "    ORDER BY COUNT(*) DESC LIMIT(3);\n",
    "''').fetchall()"
   ]
  },
  {
   "cell_type": "code",
   "execution_count": 83,
   "metadata": {},
   "outputs": [
    {
     "data": {
      "text/plain": [
       "[('Pamela', 'Castillo', 10), ('Barry', 'Jones', 9), ('George', 'Vanauf', 8)]"
      ]
     },
     "execution_count": 83,
     "metadata": {},
     "output_type": "execute_result"
    }
   ],
   "source": [
    "# Your code here\n",
    "# How many employees are there with the job title \"sales person\" are there?\n",
    "# How many customers does each sales rep have? \n",
    "# Who are the top three sales reps? \n",
    "cursor.execute('''\n",
    "SELECT firstName, lastName, COUNT(customerNumber) FROM employees\n",
    "    JOIN customers\n",
    "    ON customers.salesRepEmployeeNumber = employees.employeeNumber\n",
    "    WHERE jobTitle LIKE '%sales rep%'\n",
    "    OR jobTitle LIKE '%Sales Rep%'\n",
    "    GROUP BY employeeNumber\n",
    "    ORDER BY COUNT(customerNumber) DESC\n",
    "    LIMIT(3)\n",
    "''').fetchall()"
   ]
  },
  {
   "cell_type": "code",
   "execution_count": 91,
   "metadata": {},
   "outputs": [
    {
     "data": {
      "text/plain": [
       "[('Euro+ Shopping Channel', 715738.9800000001),\n",
       " ('Mini Gifts Distributors Ltd.', 584188.24),\n",
       " ('Australian Collectors, Co.', 180585.07)]"
      ]
     },
     "execution_count": 91,
     "metadata": {},
     "output_type": "execute_result"
    }
   ],
   "source": [
    "# Your code here\n",
    "# How much are customers paying in amount?\n",
    "# How much are the top three customers paying in total amount? \n",
    "cursor.execute('''\n",
    "SELECT customerName, SUM(amount) FROM customers\n",
    "    JOIN payments\n",
    "    ON payments.customerNumber = customers.customerNumber\n",
    "    GROUP BY customerName\n",
    "    ORDER BY SUM(amount) DESC\n",
    "    LIMIT(3)\n",
    "''').fetchall()"
   ]
  },
  {
   "cell_type": "code",
   "execution_count": null,
   "metadata": {},
   "outputs": [],
   "source": [
    "# Your code here"
   ]
  },
  {
   "cell_type": "markdown",
   "metadata": {},
   "source": [
    "## Level Up: Display the names of each product each employee has sold."
   ]
  },
  {
   "cell_type": "code",
   "execution_count": 93,
   "metadata": {},
   "outputs": [
    {
     "data": {
      "text/plain": [
       "[('1002',\n",
       "  'Murphy',\n",
       "  'Diane',\n",
       "  'x5800',\n",
       "  'dmurphy@classicmodelcars.com',\n",
       "  '1',\n",
       "  '',\n",
       "  'President'),\n",
       " ('1056',\n",
       "  'Patterson',\n",
       "  'Mary',\n",
       "  'x4611',\n",
       "  'mpatterso@classicmodelcars.com',\n",
       "  '1',\n",
       "  '1002',\n",
       "  'VP Sales'),\n",
       " ('1076',\n",
       "  'Firrelli',\n",
       "  'Jeff',\n",
       "  'x9273',\n",
       "  'jfirrelli@classicmodelcars.com',\n",
       "  '1',\n",
       "  '1002',\n",
       "  'VP Marketing'),\n",
       " ('1088',\n",
       "  'Patterson',\n",
       "  'William',\n",
       "  'x4871',\n",
       "  'wpatterson@classicmodelcars.com',\n",
       "  '6',\n",
       "  '1056',\n",
       "  'Sales Manager (APAC)'),\n",
       " ('1102',\n",
       "  'Bondur',\n",
       "  'Gerard',\n",
       "  'x5408',\n",
       "  'gbondur@classicmodelcars.com',\n",
       "  '4',\n",
       "  '1056',\n",
       "  'Sale Manager (EMEA)'),\n",
       " ('1143',\n",
       "  'Bow',\n",
       "  'Anthony',\n",
       "  'x5428',\n",
       "  'abow@classicmodelcars.com',\n",
       "  '1',\n",
       "  '1056',\n",
       "  'Sales Manager (NA)'),\n",
       " ('1165',\n",
       "  'Jennings',\n",
       "  'Leslie',\n",
       "  'x3291',\n",
       "  'ljennings@classicmodelcars.com',\n",
       "  '1',\n",
       "  '1143',\n",
       "  'Sales Rep'),\n",
       " ('1166',\n",
       "  'Thompson',\n",
       "  'Leslie',\n",
       "  'x4065',\n",
       "  'lthompson@classicmodelcars.com',\n",
       "  '1',\n",
       "  '1143',\n",
       "  'Sales Rep'),\n",
       " ('1188',\n",
       "  'Firrelli',\n",
       "  'Julie',\n",
       "  'x2173',\n",
       "  'jfirrelli@classicmodelcars.com',\n",
       "  '2',\n",
       "  '1143',\n",
       "  'Sales Rep'),\n",
       " ('1216',\n",
       "  'Patterson',\n",
       "  'Steve',\n",
       "  'x4334',\n",
       "  'spatterson@classicmodelcars.com',\n",
       "  '2',\n",
       "  '1143',\n",
       "  'Sales Rep'),\n",
       " ('1286',\n",
       "  'Tseng',\n",
       "  'Foon Yue',\n",
       "  'x2248',\n",
       "  'ftseng@classicmodelcars.com',\n",
       "  '3',\n",
       "  '1143',\n",
       "  'Sales Rep'),\n",
       " ('1323',\n",
       "  'Vanauf',\n",
       "  'George',\n",
       "  'x4102',\n",
       "  'gvanauf@classicmodelcars.com',\n",
       "  '3',\n",
       "  '1143',\n",
       "  'Sales Rep'),\n",
       " ('1337',\n",
       "  'Bondur',\n",
       "  'Loui',\n",
       "  'x6493',\n",
       "  'lbondur@classicmodelcars.com',\n",
       "  '4',\n",
       "  '1102',\n",
       "  'Sales Rep'),\n",
       " ('1370',\n",
       "  'Hernandez',\n",
       "  'Gerard',\n",
       "  'x2028',\n",
       "  'ghernande@classicmodelcars.com',\n",
       "  '4',\n",
       "  '1102',\n",
       "  'Sales Rep'),\n",
       " ('1401',\n",
       "  'Castillo',\n",
       "  'Pamela',\n",
       "  'x2759',\n",
       "  'pcastillo@classicmodelcars.com',\n",
       "  '4',\n",
       "  '1102',\n",
       "  'Sales Rep'),\n",
       " ('1501',\n",
       "  'Bott',\n",
       "  'Larry',\n",
       "  'x2311',\n",
       "  'lbott@classicmodelcars.com',\n",
       "  '7',\n",
       "  '1102',\n",
       "  'Sales Rep'),\n",
       " ('1504',\n",
       "  'Jones',\n",
       "  'Barry',\n",
       "  'x102',\n",
       "  'bjones@classicmodelcars.com',\n",
       "  '7',\n",
       "  '1102',\n",
       "  'Sales Rep'),\n",
       " ('1611',\n",
       "  'Fixter',\n",
       "  'Andy',\n",
       "  'x101',\n",
       "  'afixter@classicmodelcars.com',\n",
       "  '6',\n",
       "  '1088',\n",
       "  'Sales Rep'),\n",
       " ('1612',\n",
       "  'Marsh',\n",
       "  'Peter',\n",
       "  'x102',\n",
       "  'pmarsh@classicmodelcars.com',\n",
       "  '6',\n",
       "  '1088',\n",
       "  'Sales Rep'),\n",
       " ('1619',\n",
       "  'King',\n",
       "  'Tom',\n",
       "  'x103',\n",
       "  'tking@classicmodelcars.com',\n",
       "  '6',\n",
       "  '1088',\n",
       "  'Sales Rep'),\n",
       " ('1621',\n",
       "  'Nishi',\n",
       "  'Mami',\n",
       "  'x101',\n",
       "  'mnishi@classicmodelcars.com',\n",
       "  '5',\n",
       "  '1056',\n",
       "  'Sales Rep'),\n",
       " ('1625',\n",
       "  'Kato',\n",
       "  'Yoshimi',\n",
       "  'x102',\n",
       "  'ykato@classicmodelcars.com',\n",
       "  '5',\n",
       "  '1621',\n",
       "  'Sales Rep'),\n",
       " ('1702',\n",
       "  'Gerard',\n",
       "  'Martin',\n",
       "  'x2312',\n",
       "  'mgerard@classicmodelcars.com',\n",
       "  '4',\n",
       "  '1102',\n",
       "  'Sales Rep')]"
      ]
     },
     "execution_count": 93,
     "metadata": {},
     "output_type": "execute_result"
    }
   ],
   "source": [
    "# Your code here\n",
    "cursor.execute('''\n",
    "SELECT name FROM employees\n",
    "''').fetchall()"
   ]
  },
  {
   "cell_type": "markdown",
   "metadata": {},
   "source": [
    "## Level Up: Display the Number of Products each Employee Has sold"
   ]
  },
  {
   "cell_type": "code",
   "execution_count": null,
   "metadata": {},
   "outputs": [],
   "source": [
    "#Your code here"
   ]
  },
  {
   "cell_type": "markdown",
   "metadata": {},
   "source": [
    "## Summary"
   ]
  },
  {
   "cell_type": "markdown",
   "metadata": {},
   "source": [
    "Congrats! You now know how to use Join statements, along with leveraging your foreign keys knowledge!"
   ]
  }
 ],
 "metadata": {
  "kernelspec": {
   "display_name": "Python 3",
   "language": "python",
   "name": "python3"
  },
  "language_info": {
   "codemirror_mode": {
    "name": "ipython",
    "version": 3
   },
   "file_extension": ".py",
   "mimetype": "text/x-python",
   "name": "python",
   "nbconvert_exporter": "python",
   "pygments_lexer": "ipython3",
   "version": "3.6.6"
  }
 },
 "nbformat": 4,
 "nbformat_minor": 2
}
